{
 "cells": [
  {
   "cell_type": "code",
   "execution_count": 12,
   "id": "9e6e8134",
   "metadata": {},
   "outputs": [
    {
     "name": "stdout",
     "output_type": "stream",
     "text": [
      "-33600\n"
     ]
    }
   ],
   "source": [
    "import math \n",
    "list =  [5, 6, -1, 2, 4, -2, -10, 7]\n",
    "p1 = math.prod(list)\n",
    "print(p1)"
   ]
  },
  {
   "cell_type": "code",
   "execution_count": 71,
   "id": "5a658805",
   "metadata": {
    "scrolled": true
   },
   "outputs": [
    {
     "name": "stdout",
     "output_type": "stream",
     "text": [
      "+ - - - - + - - - - +\n",
      "|         |         |\n",
      "|         |         |\n",
      "|         |         |\n",
      "|         |         |\n",
      "+ - - - - + - - - - +\n",
      "|         |         |\n",
      "|         |         |\n",
      "|         |         |\n",
      "|         |         |\n",
      "+ - - - - + - - - - +\n"
     ]
    }
   ],
   "source": [
    "def width(f):   #width of the grid\n",
    "    f()\n",
    "    f()\n",
    "\n",
    "def length(f):   #length of the grid;\n",
    "    width(f)\n",
    "    width(f)\n",
    "\n",
    "def print_1():                      # The \"+----\" part and I use the end parameter to connect my grid to next line \n",
    "     print('+ - - - -', end=' ')\n",
    "\n",
    "def print_2():\n",
    "    print('|        ', end=' ')\n",
    "\n",
    "def print_3():  \n",
    "    width(print_1)                #then the rest I made is I adjust all of my functions that needs to be called\n",
    "    print('+')\n",
    "\n",
    "def print_4():\n",
    "    width(print_2)\n",
    "    print('|')\n",
    "\n",
    "def print_5():\n",
    "    print_3()\n",
    "    length(print_4)\n",
    "\n",
    "def print_grid():\n",
    "    width(print_5)\n",
    "    print_3()\n",
    "\n",
    "print_grid()"
   ]
  },
  {
   "cell_type": "code",
   "execution_count": 63,
   "id": "5282eea7",
   "metadata": {},
   "outputs": [],
   "source": []
  },
  {
   "cell_type": "code",
   "execution_count": null,
   "id": "a0be46e2",
   "metadata": {},
   "outputs": [],
   "source": []
  },
  {
   "cell_type": "code",
   "execution_count": null,
   "id": "cff75ab9",
   "metadata": {},
   "outputs": [],
   "source": []
  }
 ],
 "metadata": {
  "kernelspec": {
   "display_name": "Python 3 (ipykernel)",
   "language": "python",
   "name": "python3"
  },
  "language_info": {
   "codemirror_mode": {
    "name": "ipython",
    "version": 3
   },
   "file_extension": ".py",
   "mimetype": "text/x-python",
   "name": "python",
   "nbconvert_exporter": "python",
   "pygments_lexer": "ipython3",
   "version": "3.9.13"
  }
 },
 "nbformat": 4,
 "nbformat_minor": 5
}
