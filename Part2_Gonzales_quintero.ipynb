{
 "cells": [
  {
   "cell_type": "code",
   "execution_count": 3,
   "id": "21e2782b",
   "metadata": {},
   "outputs": [],
   "source": [
    "import pandas as pd\n",
    "import numpy as np\n",
    "import matplotlib.pyplot as plt\n",
    "import seaborn as sns\n",
    "\n",
    "df = pd.read_csv('C:/Users/DWIGHT JIRO/Downloads/archive/ml-25m/movies.csv')\n",
    "df2 = pd.read_csv('C:/Users/DWIGHT JIRO/Downloads/archive/ml-25m/links.csv')\n",
    "df3 = pd.read_csv('C:/Users/DWIGHT JIRO/Downloads/archive/ml-25m/genome-tags.csv')\n",
    "df4 = pd.read_csv('C:/Users/DWIGHT JIRO/Downloads/archive/ml-25m/genome-scores.csv')\n",
    "df5 = pd.read_csv('C:/Users/DWIGHT JIRO/Downloads/archive/ml-25m/ratings.csv')\n",
    "df6 = pd.read_csv('C:/Users/DWIGHT JIRO/Downloads/archive/ml-25m/tags.csv')\n",
    "\n"
   ]
  },
  {
   "cell_type": "code",
   "execution_count": 27,
   "id": "fc335ee6",
   "metadata": {},
   "outputs": [
    {
     "name": "stdout",
     "output_type": "stream",
     "text": [
      "Movies Released Each Year:\n",
      "1874       1\n",
      "1878       1\n",
      "1880       1\n",
      "1883       1\n",
      "1887       1\n",
      "        ... \n",
      "2015    2513\n",
      "2016    2488\n",
      "2017    2374\n",
      "2018    2034\n",
      "2019     994\n",
      "Name: year, Length: 135, dtype: int64\n",
      "\n",
      "Percentage Change Over Time:\n",
      "1874          NaN\n",
      "1878     0.000000\n",
      "1880     0.000000\n",
      "1883     0.000000\n",
      "1887     0.000000\n",
      "          ...    \n",
      "2015     4.447215\n",
      "2016    -0.994827\n",
      "2017    -4.581994\n",
      "2018   -14.321820\n",
      "2019   -51.130777\n",
      "Name: year, Length: 135, dtype: float64\n"
     ]
    }
   ],
   "source": [
    "import pandas as pd\n",
    "\n",
    "# Read the 'movies.csv' file\n",
    "\n",
    "\n",
    "# Extract the year from the 'title' column\n",
    "df['year'] = df['title'].str.extract(r'\\((\\d{4})\\)', expand=False)\n",
    "\n",
    "# Count the number of movies released each year\n",
    "movies_per_year = df['year'].value_counts().sort_index()\n",
    "\n",
    "# Calculate the percentage change over time\n",
    "percentage_change = movies_per_year.pct_change() * 100\n",
    "\n",
    "# Print the number of movies released each year and the percentage change\n",
    "print(\"Movies Released Each Year:\")\n",
    "print(movies_per_year)\n",
    "print(\"\\nPercentage Change Over Time:\")\n",
    "print(percentage_change)\n"
   ]
  },
  {
   "cell_type": "code",
   "execution_count": 29,
   "id": "460f8fa7",
   "metadata": {},
   "outputs": [
    {
     "name": "stdout",
     "output_type": "stream",
     "text": [
      "The most popular genre of movies is: Drama\n"
     ]
    }
   ],
   "source": [
    "import pandas as pd\n",
    "\n",
    "# Read the 'movies.csv' file\n",
    "df = pd.read_csv('C:/Users/DWIGHT JIRO/Downloads/archive/ml-25m/movies.csv')\n",
    "\n",
    "# Split the genres column into separate genre tags\n",
    "df['genres'] = df['genres'].str.split('|')\n",
    "\n",
    "# Create a new DataFrame to hold the genre counts\n",
    "genre_counts = pd.DataFrame(df['genres'].explode().value_counts())\n",
    "\n",
    "# Reset the index and rename the columns\n",
    "genre_counts = genre_counts.reset_index()\n",
    "genre_counts.columns = ['Genre', 'Count']\n",
    "\n",
    "# Sort the DataFrame by count in descending order\n",
    "genre_counts = genre_counts.sort_values(by='Count', ascending=False)\n",
    "\n",
    "# Print the most popular genre\n",
    "most_popular_genre = genre_counts.iloc[0]['Genre']\n",
    "print(\"The most popular genre of movies is:\", most_popular_genre)\n"
   ]
  },
  {
   "cell_type": "code",
   "execution_count": 30,
   "id": "9c825090",
   "metadata": {},
   "outputs": [
    {
     "name": "stdout",
     "output_type": "stream",
     "text": [
      "Top 20 Movies with Highest Number of Ratings and Highest Average Rating:\n",
      "         count      mean\n",
      "movieId                 \n",
      "356      81491  4.048011\n",
      "318      81482  4.413576\n",
      "296      79672  4.188912\n",
      "593      74127  4.151342\n",
      "2571     72674  4.154099\n",
      "260      68717  4.120189\n",
      "480      64144  3.679175\n",
      "527      60411  4.247579\n",
      "110      59184  4.002273\n",
      "2959     58773  4.228311\n",
      "589      57379  3.946374\n",
      "1196     57361  4.144122\n",
      "1        57309  3.893708\n",
      "4993     55736  4.091189\n",
      "50       55366  4.284353\n",
      "1210     54917  3.996513\n",
      "1198     54675  4.123923\n",
      "2858     53689  4.107340\n",
      "858      52498  4.324336\n",
      "5952     51138  4.068051\n"
     ]
    }
   ],
   "source": [
    "\n",
    "# Read the 'ratings.csv' file\n",
    "df5 = pd.read_csv('C:/Users/DWIGHT JIRO/Downloads/archive/ml-25m/ratings.csv')\n",
    "\n",
    "# Calculate the number of ratings and average rating for each movie\n",
    "movie_ratings = df5.groupby('movieId').agg({'rating': ['count', 'mean']})\n",
    "\n",
    "# Flatten the column names for ease of use\n",
    "movie_ratings.columns = movie_ratings.columns.droplevel()\n",
    "\n",
    "# Sort the movies based on the number of ratings and average rating\n",
    "sorted_movies = movie_ratings.sort_values(by=['count', 'mean'], ascending=False)\n",
    "\n",
    "# Select the top 20 movies with the highest number of ratings and highest average rating\n",
    "top_20_movies = sorted_movies.head(20)\n",
    "\n",
    "# Print the top 20 movies\n",
    "print(\"Top 20 Movies with Highest Number of Ratings and Highest Average Rating:\")\n",
    "print(top_20_movies)"
   ]
  },
  {
   "cell_type": "code",
   "execution_count": 32,
   "id": "d1b37e41",
   "metadata": {},
   "outputs": [
    {
     "ename": "AttributeError",
     "evalue": "Can only use .dt accessor with datetimelike values",
     "output_type": "error",
     "traceback": [
      "\u001b[1;31m---------------------------------------------------------------------------\u001b[0m",
      "\u001b[1;31mAttributeError\u001b[0m                            Traceback (most recent call last)",
      "\u001b[1;32m~\\AppData\\Local\\Temp\\ipykernel_10000\\4103578471.py\u001b[0m in \u001b[0;36m<module>\u001b[1;34m\u001b[0m\n\u001b[0;32m      7\u001b[0m \u001b[1;33m\u001b[0m\u001b[0m\n\u001b[0;32m      8\u001b[0m \u001b[1;31m# Extract the season (quarter) from the timestamp\u001b[0m\u001b[1;33m\u001b[0m\u001b[1;33m\u001b[0m\u001b[0m\n\u001b[1;32m----> 9\u001b[1;33m \u001b[0mdf5\u001b[0m\u001b[1;33m[\u001b[0m\u001b[1;34m'season'\u001b[0m\u001b[1;33m]\u001b[0m \u001b[1;33m=\u001b[0m \u001b[0mdf5\u001b[0m\u001b[1;33m[\u001b[0m\u001b[1;34m'timestamp'\u001b[0m\u001b[1;33m]\u001b[0m\u001b[1;33m.\u001b[0m\u001b[0mdt\u001b[0m\u001b[1;33m.\u001b[0m\u001b[0mquarter\u001b[0m\u001b[1;33m\u001b[0m\u001b[1;33m\u001b[0m\u001b[0m\n\u001b[0m\u001b[0;32m     10\u001b[0m \u001b[1;33m\u001b[0m\u001b[0m\n\u001b[0;32m     11\u001b[0m \u001b[1;31m# Count the number of movies released in each season\u001b[0m\u001b[1;33m\u001b[0m\u001b[1;33m\u001b[0m\u001b[0m\n",
      "\u001b[1;32m~\\anaconda3\\lib\\site-packages\\pandas\\core\\generic.py\u001b[0m in \u001b[0;36m__getattr__\u001b[1;34m(self, name)\u001b[0m\n\u001b[0;32m   5573\u001b[0m         ):\n\u001b[0;32m   5574\u001b[0m             \u001b[1;32mreturn\u001b[0m \u001b[0mself\u001b[0m\u001b[1;33m[\u001b[0m\u001b[0mname\u001b[0m\u001b[1;33m]\u001b[0m\u001b[1;33m\u001b[0m\u001b[1;33m\u001b[0m\u001b[0m\n\u001b[1;32m-> 5575\u001b[1;33m         \u001b[1;32mreturn\u001b[0m \u001b[0mobject\u001b[0m\u001b[1;33m.\u001b[0m\u001b[0m__getattribute__\u001b[0m\u001b[1;33m(\u001b[0m\u001b[0mself\u001b[0m\u001b[1;33m,\u001b[0m \u001b[0mname\u001b[0m\u001b[1;33m)\u001b[0m\u001b[1;33m\u001b[0m\u001b[1;33m\u001b[0m\u001b[0m\n\u001b[0m\u001b[0;32m   5576\u001b[0m \u001b[1;33m\u001b[0m\u001b[0m\n\u001b[0;32m   5577\u001b[0m     \u001b[1;32mdef\u001b[0m \u001b[0m__setattr__\u001b[0m\u001b[1;33m(\u001b[0m\u001b[0mself\u001b[0m\u001b[1;33m,\u001b[0m \u001b[0mname\u001b[0m\u001b[1;33m:\u001b[0m \u001b[0mstr\u001b[0m\u001b[1;33m,\u001b[0m \u001b[0mvalue\u001b[0m\u001b[1;33m)\u001b[0m \u001b[1;33m->\u001b[0m \u001b[1;32mNone\u001b[0m\u001b[1;33m:\u001b[0m\u001b[1;33m\u001b[0m\u001b[1;33m\u001b[0m\u001b[0m\n",
      "\u001b[1;32m~\\anaconda3\\lib\\site-packages\\pandas\\core\\accessor.py\u001b[0m in \u001b[0;36m__get__\u001b[1;34m(self, obj, cls)\u001b[0m\n\u001b[0;32m    180\u001b[0m             \u001b[1;31m# we're accessing the attribute of the class, i.e., Dataset.geo\u001b[0m\u001b[1;33m\u001b[0m\u001b[1;33m\u001b[0m\u001b[0m\n\u001b[0;32m    181\u001b[0m             \u001b[1;32mreturn\u001b[0m \u001b[0mself\u001b[0m\u001b[1;33m.\u001b[0m\u001b[0m_accessor\u001b[0m\u001b[1;33m\u001b[0m\u001b[1;33m\u001b[0m\u001b[0m\n\u001b[1;32m--> 182\u001b[1;33m         \u001b[0maccessor_obj\u001b[0m \u001b[1;33m=\u001b[0m \u001b[0mself\u001b[0m\u001b[1;33m.\u001b[0m\u001b[0m_accessor\u001b[0m\u001b[1;33m(\u001b[0m\u001b[0mobj\u001b[0m\u001b[1;33m)\u001b[0m\u001b[1;33m\u001b[0m\u001b[1;33m\u001b[0m\u001b[0m\n\u001b[0m\u001b[0;32m    183\u001b[0m         \u001b[1;31m# Replace the property with the accessor object. Inspired by:\u001b[0m\u001b[1;33m\u001b[0m\u001b[1;33m\u001b[0m\u001b[0m\n\u001b[0;32m    184\u001b[0m         \u001b[1;31m# https://www.pydanny.com/cached-property.html\u001b[0m\u001b[1;33m\u001b[0m\u001b[1;33m\u001b[0m\u001b[0m\n",
      "\u001b[1;32m~\\anaconda3\\lib\\site-packages\\pandas\\core\\indexes\\accessors.py\u001b[0m in \u001b[0;36m__new__\u001b[1;34m(cls, data)\u001b[0m\n\u001b[0;32m    507\u001b[0m             \u001b[1;32mreturn\u001b[0m \u001b[0mPeriodProperties\u001b[0m\u001b[1;33m(\u001b[0m\u001b[0mdata\u001b[0m\u001b[1;33m,\u001b[0m \u001b[0morig\u001b[0m\u001b[1;33m)\u001b[0m\u001b[1;33m\u001b[0m\u001b[1;33m\u001b[0m\u001b[0m\n\u001b[0;32m    508\u001b[0m \u001b[1;33m\u001b[0m\u001b[0m\n\u001b[1;32m--> 509\u001b[1;33m         \u001b[1;32mraise\u001b[0m \u001b[0mAttributeError\u001b[0m\u001b[1;33m(\u001b[0m\u001b[1;34m\"Can only use .dt accessor with datetimelike values\"\u001b[0m\u001b[1;33m)\u001b[0m\u001b[1;33m\u001b[0m\u001b[1;33m\u001b[0m\u001b[0m\n\u001b[0m",
      "\u001b[1;31mAttributeError\u001b[0m: Can only use .dt accessor with datetimelike values"
     ]
    }
   ],
   "source": [
    "\n"
   ]
  },
  {
   "cell_type": "code",
   "execution_count": null,
   "id": "ade4eac1",
   "metadata": {},
   "outputs": [],
   "source": []
  }
 ],
 "metadata": {
  "kernelspec": {
   "display_name": "Python 3 (ipykernel)",
   "language": "python",
   "name": "python3"
  },
  "language_info": {
   "codemirror_mode": {
    "name": "ipython",
    "version": 3
   },
   "file_extension": ".py",
   "mimetype": "text/x-python",
   "name": "python",
   "nbconvert_exporter": "python",
   "pygments_lexer": "ipython3",
   "version": "3.9.13"
  }
 },
 "nbformat": 4,
 "nbformat_minor": 5
}
