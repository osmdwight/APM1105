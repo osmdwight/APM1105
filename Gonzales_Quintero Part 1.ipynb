{
 "cells": [
  {
   "cell_type": "code",
   "execution_count": 9,
   "id": "ec03f1f5",
   "metadata": {},
   "outputs": [
    {
     "name": "stdout",
     "output_type": "stream",
     "text": [
      "Top 10 rows...\n",
      "    year state    month  number        date\n",
      "0  1998  Acre  Janeiro     0.0  1998-01-01\n",
      "1  1999  Acre  Janeiro     0.0  1999-01-01\n",
      "2  2000  Acre  Janeiro     0.0  2000-01-01\n",
      "3  2001  Acre  Janeiro     0.0  2001-01-01\n",
      "4  2002  Acre  Janeiro     0.0  2002-01-01\n",
      "5  2003  Acre  Janeiro    10.0  2003-01-01\n",
      "6  2004  Acre  Janeiro     0.0  2004-01-01\n",
      "7  2005  Acre  Janeiro    12.0  2005-01-01\n",
      "8  2006  Acre  Janeiro     4.0  2006-01-01\n",
      "9  2007  Acre  Janeiro     0.0  2007-01-01\n"
     ]
    }
   ],
   "source": [
    "#1\n",
    "\n",
    "import pandas as pd\n",
    "import numpy as np\n",
    "import matplotlib.pyplot as plt\n",
    "import seaborn as sns\n",
    "\n",
    "\n",
    "dataFrame = pd.read_csv(\"C:\\\\Users\\\\DWIGHT JIRO\\\\Downloads\\\\amazon.csv\", encoding='latin1',encoding = 'ISO-8859-1')\n",
    "\n",
    "print(\"Top 10 rows...\\n\", dataFrame.head(10))\n"
   ]
  },
  {
   "cell_type": "code",
   "execution_count": 10,
   "id": "8eeb0b91",
   "metadata": {},
   "outputs": [
    {
     "name": "stdout",
     "output_type": "stream",
     "text": [
      "Last 10 rows...\n",
      "       year      state     month  number        date\n",
      "6444  2007  Tocantins  Dezembro    13.0  2007-01-01\n",
      "6445  2008  Tocantins  Dezembro     7.0  2008-01-01\n",
      "6446  2009  Tocantins  Dezembro    46.0  2009-01-01\n",
      "6447  2010  Tocantins  Dezembro    72.0  2010-01-01\n",
      "6448  2011  Tocantins  Dezembro   105.0  2011-01-01\n",
      "6449  2012  Tocantins  Dezembro   128.0  2012-01-01\n",
      "6450  2013  Tocantins  Dezembro    85.0  2013-01-01\n",
      "6451  2014  Tocantins  Dezembro   223.0  2014-01-01\n",
      "6452  2015  Tocantins  Dezembro   373.0  2015-01-01\n",
      "6453  2016  Tocantins  Dezembro   119.0  2016-01-01\n"
     ]
    }
   ],
   "source": [
    "#2\n",
    "\n",
    "print(\"Last 10 rows...\\n\", dataFrame.tail(10))"
   ]
  },
  {
   "cell_type": "code",
   "execution_count": 15,
   "id": "0979f136",
   "metadata": {},
   "outputs": [
    {
     "name": "stdout",
     "output_type": "stream",
     "text": [
      "Rows: 6454\n",
      "Columns: 5\n"
     ]
    }
   ],
   "source": [
    "#3\n",
    "\n",
    "rows = len(dataFrame.axes[0])\n",
    "columns = len(dataFrame.axes[1])\n",
    "\n",
    "print(\"Rows:\",rows)\n",
    "print(\"Columns:\",columns)"
   ]
  },
  {
   "cell_type": "code",
   "execution_count": 23,
   "id": "dc0435eb",
   "metadata": {},
   "outputs": [
    {
     "name": "stdout",
     "output_type": "stream",
     "text": [
      "Data types: \n",
      " year        int64\n",
      "state      object\n",
      "month      object\n",
      "number    float64\n",
      "date       object\n",
      "dtype: object\n",
      "\n",
      "Rows: 6454\n",
      "\n",
      "Columns: 5\n",
      "<class 'pandas.core.frame.DataFrame'>\n",
      "RangeIndex: 6454 entries, 0 to 6453\n",
      "Data columns (total 5 columns):\n",
      " #   Column  Non-Null Count  Dtype  \n",
      "---  ------  --------------  -----  \n",
      " 0   year    6454 non-null   int64  \n",
      " 1   state   6454 non-null   object \n",
      " 2   month   6454 non-null   object \n",
      " 3   number  6454 non-null   float64\n",
      " 4   date    6454 non-null   object \n",
      "dtypes: float64(1), int64(1), object(3)\n",
      "memory usage: 1.3 MB\n",
      "\n",
      "memory requirement: None\n"
     ]
    }
   ],
   "source": [
    "#4\n",
    "\n",
    "data_types= dataFrame.dtypes\n",
    "\n",
    "print(\"Data types: \\n\", data_types)\n",
    "print(\"\\nRows:\",rows)\n",
    "print(\"\\nColumns:\",columns)\n",
    "memory = dataFrame.info(memory_usage=\"deep\")\n",
    "print(\"\\nmemory requirement:\",memory)"
   ]
  },
  {
   "cell_type": "code",
   "execution_count": 27,
   "id": "abe6a580",
   "metadata": {},
   "outputs": [
    {
     "name": "stdout",
     "output_type": "stream",
     "text": [
      "Finding duplicated...\n",
      " 0       False\n",
      "1       False\n",
      "2       False\n",
      "3       False\n",
      "4       False\n",
      "        ...  \n",
      "6449    False\n",
      "6450    False\n",
      "6451    False\n",
      "6452    False\n",
      "6453    False\n",
      "Length: 6454, dtype: bool\n",
      "\n",
      "Sum of total duplicated: 32\n",
      "\n",
      "Here are the duplicated data:        year      state     month  number        date\n",
      "0     1998       Acre   Janeiro     0.0  1998-01-01\n",
      "1     1999       Acre   Janeiro     0.0  1999-01-01\n",
      "2     2000       Acre   Janeiro     0.0  2000-01-01\n",
      "3     2001       Acre   Janeiro     0.0  2001-01-01\n",
      "4     2002       Acre   Janeiro     0.0  2002-01-01\n",
      "...    ...        ...       ...     ...         ...\n",
      "6449  2012  Tocantins  Dezembro   128.0  2012-01-01\n",
      "6450  2013  Tocantins  Dezembro    85.0  2013-01-01\n",
      "6451  2014  Tocantins  Dezembro   223.0  2014-01-01\n",
      "6452  2015  Tocantins  Dezembro   373.0  2015-01-01\n",
      "6453  2016  Tocantins  Dezembro   119.0  2016-01-01\n",
      "\n",
      "[6422 rows x 5 columns]\n"
     ]
    }
   ],
   "source": [
    "#5\n",
    "\n",
    "find=dataFrame.duplicated()\n",
    "print(\"Finding duplicated...\\n\",find)\n",
    "\n",
    "findTotal= dataFrame.duplicated().sum()\n",
    "print(\"\\nSum of total duplicated:\",findTotal)\n",
    "\n",
    "drop= dataFrame.drop_duplicates()\n",
    "print(\"\\nHere are the duplicated data: \", drop)"
   ]
  },
  {
   "cell_type": "code",
   "execution_count": 31,
   "id": "4bafe232",
   "metadata": {},
   "outputs": [
    {
     "name": "stdout",
     "output_type": "stream",
     "text": [
      "Null components:\n",
      "        year  state  month  number   date\n",
      "0     False  False  False   False  False\n",
      "1     False  False  False   False  False\n",
      "2     False  False  False   False  False\n",
      "3     False  False  False   False  False\n",
      "4     False  False  False   False  False\n",
      "...     ...    ...    ...     ...    ...\n",
      "6449  False  False  False   False  False\n",
      "6450  False  False  False   False  False\n",
      "6451  False  False  False   False  False\n",
      "6452  False  False  False   False  False\n",
      "6453  False  False  False   False  False\n",
      "\n",
      "[6454 rows x 5 columns]\n",
      "\n",
      " sum of null: year      0\n",
      "state     0\n",
      "month     0\n",
      "number    0\n",
      "date      0\n",
      "dtype: int64\n"
     ]
    }
   ],
   "source": [
    "#6\n",
    "\n",
    "finding_null = dataFrame.isnull()\n",
    "print(\"Null components:\\n\",finding_null)\n",
    "\n",
    "null_sum= dataFrame.isnull().sum()\n",
    "print(\"\\n sum of null:\",null_sum)"
   ]
  },
  {
   "cell_type": "code",
   "execution_count": 33,
   "id": "9934938c",
   "metadata": {},
   "outputs": [
    {
     "data": {
      "text/html": [
       "<div>\n",
       "<style scoped>\n",
       "    .dataframe tbody tr th:only-of-type {\n",
       "        vertical-align: middle;\n",
       "    }\n",
       "\n",
       "    .dataframe tbody tr th {\n",
       "        vertical-align: top;\n",
       "    }\n",
       "\n",
       "    .dataframe thead th {\n",
       "        text-align: right;\n",
       "    }\n",
       "</style>\n",
       "<table border=\"1\" class=\"dataframe\">\n",
       "  <thead>\n",
       "    <tr style=\"text-align: right;\">\n",
       "      <th></th>\n",
       "      <th>year</th>\n",
       "      <th>number</th>\n",
       "    </tr>\n",
       "  </thead>\n",
       "  <tbody>\n",
       "    <tr>\n",
       "      <th>count</th>\n",
       "      <td>6454.000000</td>\n",
       "      <td>6454.000000</td>\n",
       "    </tr>\n",
       "    <tr>\n",
       "      <th>mean</th>\n",
       "      <td>2007.461729</td>\n",
       "      <td>108.293163</td>\n",
       "    </tr>\n",
       "    <tr>\n",
       "      <th>std</th>\n",
       "      <td>5.746654</td>\n",
       "      <td>190.812242</td>\n",
       "    </tr>\n",
       "    <tr>\n",
       "      <th>min</th>\n",
       "      <td>1998.000000</td>\n",
       "      <td>0.000000</td>\n",
       "    </tr>\n",
       "    <tr>\n",
       "      <th>25%</th>\n",
       "      <td>2002.000000</td>\n",
       "      <td>3.000000</td>\n",
       "    </tr>\n",
       "    <tr>\n",
       "      <th>50%</th>\n",
       "      <td>2007.000000</td>\n",
       "      <td>24.000000</td>\n",
       "    </tr>\n",
       "    <tr>\n",
       "      <th>75%</th>\n",
       "      <td>2012.000000</td>\n",
       "      <td>113.000000</td>\n",
       "    </tr>\n",
       "    <tr>\n",
       "      <th>max</th>\n",
       "      <td>2017.000000</td>\n",
       "      <td>998.000000</td>\n",
       "    </tr>\n",
       "  </tbody>\n",
       "</table>\n",
       "</div>"
      ],
      "text/plain": [
       "              year       number\n",
       "count  6454.000000  6454.000000\n",
       "mean   2007.461729   108.293163\n",
       "std       5.746654   190.812242\n",
       "min    1998.000000     0.000000\n",
       "25%    2002.000000     3.000000\n",
       "50%    2007.000000    24.000000\n",
       "75%    2012.000000   113.000000\n",
       "max    2017.000000   998.000000"
      ]
     },
     "execution_count": 33,
     "metadata": {},
     "output_type": "execute_result"
    }
   ],
   "source": [
    "#7\n",
    "dataFrame.describe()"
   ]
  },
  {
   "cell_type": "code",
   "execution_count": 41,
   "id": "636acf79",
   "metadata": {},
   "outputs": [
    {
     "data": {
      "text/plain": [
       "0        January\n",
       "1        January\n",
       "2        January\n",
       "3        January\n",
       "4        January\n",
       "          ...   \n",
       "6449    December\n",
       "6450    December\n",
       "6451    December\n",
       "6452    December\n",
       "6453    December\n",
       "Name: month, Length: 6454, dtype: object"
      ]
     },
     "execution_count": 41,
     "metadata": {},
     "output_type": "execute_result"
    }
   ],
   "source": [
    "#8\n",
    "# goal is to determine what kind of language is being use to create a list\n",
    "dataFrame.loc[:,\"month\"]"
   ]
  },
  {
   "cell_type": "code",
   "execution_count": 42,
   "id": "c94ae6da",
   "metadata": {},
   "outputs": [
    {
     "name": "stdout",
     "output_type": "stream",
     "text": [
      "      year      state     month  number        date\n",
      "0     1998       Acre   January     0.0  1998-01-01\n",
      "1     1999       Acre   January     0.0  1999-01-01\n",
      "2     2000       Acre   January     0.0  2000-01-01\n",
      "3     2001       Acre   January     0.0  2001-01-01\n",
      "4     2002       Acre   January     0.0  2002-01-01\n",
      "...    ...        ...       ...     ...         ...\n",
      "6449  2012  Tocantins  December   128.0  2012-01-01\n",
      "6450  2013  Tocantins  December    85.0  2013-01-01\n",
      "6451  2014  Tocantins  December   223.0  2014-01-01\n",
      "6452  2015  Tocantins  December   373.0  2015-01-01\n",
      "6453  2016  Tocantins  December   119.0  2016-01-01\n",
      "\n",
      "[6454 rows x 5 columns]\n"
     ]
    }
   ],
   "source": [
    "\n",
    "\n",
    "#8\n",
    "\n",
    "month_names = {\n",
    "    'Janeiro': 'January',\n",
    "    'Fevereiro': 'February',\n",
    "    'Março': 'March',\n",
    "    'Abril': 'April',\n",
    "    'Maio': 'May',\n",
    "    'Junho': 'June',\n",
    "    'Julho': 'July',\n",
    "    'Agosto': 'August',\n",
    "    'Setembro': 'September',\n",
    "    'Outubro': 'October',\n",
    "    'Novembro': 'November',\n",
    "    'Dezembro': 'December'\n",
    "}\n",
    "\n",
    "dataFrame['month'] = dataFrame['month'].replace(month_names)\n",
    "\n",
    "print(dataFrame)"
   ]
  },
  {
   "cell_type": "code",
   "execution_count": 43,
   "id": "ed58ff2c",
   "metadata": {},
   "outputs": [
    {
     "name": "stdout",
     "output_type": "stream",
     "text": [
      "Total number of fires registered: 698924.073\n"
     ]
    }
   ],
   "source": [
    "#9\n",
    "\n",
    "total_fires_registered = dataFrame['number'].sum()\n",
    "\n",
    "print(\"Total number of fires registered:\", total_fires_registered)"
   ]
  },
  {
   "cell_type": "code",
   "execution_count": 6,
   "id": "56a9df22",
   "metadata": {},
   "outputs": [
    {
     "name": "stdout",
     "output_type": "stream",
     "text": [
      "The month with the maximum number of forest fires reported: July\n"
     ]
    }
   ],
   "source": [
    "#10\n",
    "import pandas as pd\n",
    "dataFrame = pd.read_csv(\"C:\\\\Users\\\\DWIGHT JIRO\\\\Downloads\\\\amazon.csv\", encoding='latin1')\n",
    "\n",
    "month_map = {\n",
    "    'Janeiro': 'January',\n",
    "    'Fevereiro': 'February',\n",
    "    'Março': 'March',\n",
    "    'Abril': 'April',\n",
    "    'Maio': 'May',\n",
    "    'Junho': 'June',\n",
    "    'Julho': 'July',\n",
    "    'Agosto': 'August',\n",
    "    'Setembro': 'September',\n",
    "    'Outubro': 'October',\n",
    "    'Novembro': 'November',\n",
    "    'Dezembro': 'December'\n",
    "}\n",
    "\n",
    "dataFrame['month'].replace(month_map, inplace=True)\n",
    "\n",
    "month_with_max_fires = dataFrame.groupby('month')['number'].sum().idxmax()\n",
    "\n",
    "print(\"The month with the maximum number of forest fires reported:\", month_with_max_fires)\n"
   ]
  },
  {
   "cell_type": "code",
   "execution_count": 11,
   "id": "e269dfbf",
   "metadata": {
    "scrolled": true
   },
   "outputs": [
    {
     "name": "stdout",
     "output_type": "stream",
     "text": [
      "The year with the maximum number of forest fires reported: 2003\n"
     ]
    }
   ],
   "source": [
    "#11\n",
    "\n",
    "pivot1 = dataFrame.groupby('year')['number'].sum()\n",
    "\n",
    "# Find the year with the maximum number of fires\n",
    "year_with_max_fires = pivot1.idxmax()\n",
    "\n",
    "print(\"The year with the maximum number of forest fires reported:\", year_with_max_fires)\n"
   ]
  },
  {
   "cell_type": "code",
   "execution_count": 14,
   "id": "18d38c86",
   "metadata": {},
   "outputs": [
    {
     "name": "stdout",
     "output_type": "stream",
     "text": [
      "The state with the maximum number of forest fires reported: Mato Grosso\n"
     ]
    }
   ],
   "source": [
    "#12\n",
    "\n",
    "state_max_fires = dataFrame.groupby('state')['number'].sum().idxmax()\n",
    "\n",
    "print(\"The state with the maximum number of forest fires reported:\", state_max_fires)"
   ]
  },
  {
   "cell_type": "code",
   "execution_count": 17,
   "id": "c1e20fa5",
   "metadata": {},
   "outputs": [
    {
     "data": {
      "text/plain": [
       "30650.129"
      ]
     },
     "execution_count": 17,
     "metadata": {},
     "output_type": "execute_result"
    }
   ],
   "source": [
    "#13\n",
    "fire_recorded_amazonas = dataFrame.loc[dataFrame['state'] == 'Amazonas', 'number'].sum()\n",
    "fire_recorded_amazonas"
   ]
  },
  {
   "cell_type": "code",
   "execution_count": 19,
   "id": "03a3cae3",
   "metadata": {},
   "outputs": [
    {
     "name": "stdout",
     "output_type": "stream",
     "text": [
      "year\n",
      "1998     946.000\n",
      "1999    1061.000\n",
      "2000     853.000\n",
      "2001    1297.000\n",
      "2002    2852.000\n",
      "2003    1524.268\n",
      "2004    2298.207\n",
      "2005    1657.128\n",
      "2006     997.640\n",
      "2007     589.601\n",
      "2008    2717.000\n",
      "2009    1320.601\n",
      "2010    2324.508\n",
      "2011    1652.538\n",
      "2012    1110.641\n",
      "2013     905.217\n",
      "2014    2385.909\n",
      "2015    1189.994\n",
      "2016    2060.972\n",
      "2017     906.905\n",
      "Name: number, dtype: float64\n"
     ]
    }
   ],
   "source": [
    "#14\n",
    "amazonas_fire_recorded_yearly = dataFrame.loc[dataFrame['state'] == 'Amazonas'].groupby('year')['number'].sum()\n",
    "print(amazonas_fire_recorded_yearly)"
   ]
  },
  {
   "cell_type": "code",
   "execution_count": 21,
   "id": "daaef5a9",
   "metadata": {},
   "outputs": [
    {
     "name": "stdout",
     "output_type": "stream",
     "text": [
      "date\n",
      "1998-01-01     946.000\n",
      "1999-01-01    1061.000\n",
      "2000-01-01     853.000\n",
      "2001-01-01    1297.000\n",
      "2002-01-01    2852.000\n",
      "2003-01-01    1524.268\n",
      "2004-01-01    2298.207\n",
      "2005-01-01    1657.128\n",
      "2006-01-01     997.640\n",
      "2007-01-01     589.601\n",
      "2008-01-01    2717.000\n",
      "2009-01-01    1320.601\n",
      "2010-01-01    2324.508\n",
      "2011-01-01    1652.538\n",
      "2012-01-01    1110.641\n",
      "2013-01-01     905.217\n",
      "2014-01-01    2385.909\n",
      "2015-01-01    1189.994\n",
      "2016-01-01    2060.972\n",
      "2017-01-01     906.905\n",
      "Name: number, dtype: float64\n"
     ]
    }
   ],
   "source": [
    "#15\n",
    "amazonas_fire_recorded_days = dataFrame.loc[dataFrame['state'] == 'Amazonas'].groupby('date')['number'].sum()\n",
    "print(amazonas_fire_recorded_days)"
   ]
  },
  {
   "cell_type": "code",
   "execution_count": 22,
   "id": "48e4915e",
   "metadata": {},
   "outputs": [
    {
     "data": {
      "text/plain": [
       "<AxesSubplot:title={'center':'Number of Fires Reported in 2015 (Monthly)'}, xlabel='Month', ylabel='Number of Fires'>"
      ]
     },
     "execution_count": 22,
     "metadata": {},
     "output_type": "execute_result"
    },
    {
     "data": {
      "image/png": "[encoded data removed]",
      "text/plain": [
       "<Figure size 640x480 with 1 Axes>"
      ]
     },
     "metadata": {},
     "output_type": "display_data"
    }
   ],
   "source": [
    "#16\n",
    "df_2015 = dataFrame[dataFrame['year'] == 2015]\n",
    "records_2015 = df_2015.groupby('month')['number'].sum()\n",
    "records_2015.plot(kind='bar', xlabel='Month', ylabel='Number of Fires', title='Number of Fires Reported in 2015 (Monthly)')"
   ]
  },
  {
   "cell_type": "code",
   "execution_count": 23,
   "id": "f24eb07f",
   "metadata": {},
   "outputs": [
    {
     "name": "stdout",
     "output_type": "stream",
     "text": [
      "state\n",
      "Sao Paulo           213.896226\n",
      "Mato Grosso         201.351523\n",
      "Bahia               187.222703\n",
      "Piau                158.174674\n",
      "Goias               157.721841\n",
      "Minas Gerais        156.800243\n",
      "Tocantins           141.037176\n",
      "Amazonas            128.243218\n",
      "Ceara               127.314071\n",
      "Paraiba             109.698573\n",
      "Maranhao            105.142808\n",
      "Pará                102.561272\n",
      "Pernambuco          102.502092\n",
      "Roraima             102.029598\n",
      "Santa Catarina      101.924067\n",
      "Amapa                91.345506\n",
      "Rondonia             84.876272\n",
      "Acre                 77.255356\n",
      "Rio                  62.985865\n",
      "Espirito Santo       27.389121\n",
      "Alagoas              19.350000\n",
      "Distrito Federal     14.899582\n",
      "Sergipe              13.543933\n",
      "Name: number, dtype: float64\n"
     ]
    }
   ],
   "source": [
    "#17\n",
    "highest_to_lowest = dataFrame.groupby('state')['number'].mean()\n",
    "highest_to_lowest = highest_to_lowest.sort_values(ascending=False)\n",
    "print(highest_to_lowest)"
   ]
  },
  {
   "cell_type": "code",
   "execution_count": 31,
   "id": "76a68f39",
   "metadata": {},
   "outputs": [],
   "source": [
    "#18\n",
    "december_fires_states = dataFrame.loc[dataFrame['month'] == 'December', 'state'].unique()\n",
    "for state in december_fires_states:\n",
    "    print(state)"
   ]
  },
  {
   "cell_type": "code",
   "execution_count": null,
   "id": "05a8514e",
   "metadata": {},
   "outputs": [],
   "source": [
    "\n",
    "\n"
   ]
  }
 ],
 "metadata": {
  "kernelspec": {
   "display_name": "Python 3 (ipykernel)",
   "language": "python",
   "name": "python3"
  },
  "language_info": {
   "codemirror_mode": {
    "name": "ipython",
    "version": 3
   },
   "file_extension": ".py",
   "mimetype": "text/x-python",
   "name": "python",
   "nbconvert_exporter": "python",
   "pygments_lexer": "ipython3",
   "version": "3.9.13"
  }
 },
 "nbformat": 4,
 "nbformat_minor": 5
}
