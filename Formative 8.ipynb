{
 "cells": [
  {
   "cell_type": "code",
   "execution_count": 5,
   "id": "396f289f",
   "metadata": {
    "scrolled": true
   },
   "outputs": [
    {
     "name": "stdout",
     "output_type": "stream",
     "text": [
      "           count           mean    median           std      min       25%  \\\n",
      "rank                                                                         \n",
      "AssocProf   13.0   91786.230769  103613.0  18571.183714  62884.0   74830.0   \n",
      "AsstProf    19.0   81362.789474   78500.0   9381.245301  63100.0   74096.0   \n",
      "Prof        46.0  123624.804348  123321.5  24850.287853  57800.0  105112.5   \n",
      "\n",
      "                50%        75%       90%       max  skewness  kurtosis  \n",
      "rank                                                                    \n",
      "AssocProf  103613.0  104542.00  109121.6  119800.0 -0.133162 -1.485454  \n",
      "AsstProf    78500.0   91150.00   92000.0   97032.0  0.028041 -1.063983  \n",
      "Prof       123321.5  143512.25  154750.0  186960.0  0.067995  0.052451  \n"
     ]
    }
   ],
   "source": [
    "import pandas as pd\n",
    "from scipy.stats import kurtosis, skew\n",
    "\n",
    "url = 'https://raw.githubusercontent.com/Apress/data-analysis-and-visualization-using-python/master/Ch07/Salaries.csv'\n",
    "\n",
    "df = pd.read_csv(url)\n",
    "\n",
    "# group by rank and compute the descriptive statistics for each group\n",
    "salary_desc = df.groupby(\"rank\")[\"salary\"].describe(percentiles=[0.1, 0.25, 0.5, 0.75, 0.9])\n",
    "salary_stats = pd.DataFrame({\n",
    "    \"count\": salary_desc[\"count\"],\n",
    "    \"mean\": salary_desc[\"mean\"],\n",
    "    \"median\": salary_desc[\"50%\"],\n",
    "    \"std\": salary_desc[\"std\"],\n",
    "    \"min\": salary_desc[\"min\"],\n",
    "    \"25%\": salary_desc[\"25%\"],\n",
    "    \"50%\": salary_desc[\"50%\"],\n",
    "    \"75%\": salary_desc[\"75%\"],\n",
    "    \"90%\": salary_desc[\"90%\"],\n",
    "    \"max\": salary_desc[\"max\"],\n",
    "    \"skewness\": df.groupby(\"rank\")[\"salary\"].apply(skew),\n",
    "    \"kurtosis\": df.groupby(\"rank\")[\"salary\"].apply(kurtosis),\n",
    "})\n",
    "\n",
    "print(salary_stats)\n",
    "\n",
    "\n"
   ]
  },
  {
   "cell_type": "code",
   "execution_count": null,
   "id": "57e443a0",
   "metadata": {},
   "outputs": [],
   "source": []
  }
 ],
 "metadata": {
  "kernelspec": {
   "display_name": "Python 3 (ipykernel)",
   "language": "python",
   "name": "python3"
  },
  "language_info": {
   "codemirror_mode": {
    "name": "ipython",
    "version": 3
   },
   "file_extension": ".py",
   "mimetype": "text/x-python",
   "name": "python",
   "nbconvert_exporter": "python",
   "pygments_lexer": "ipython3",
   "version": "3.9.13"
  }
 },
 "nbformat": 4,
 "nbformat_minor": 5
}
