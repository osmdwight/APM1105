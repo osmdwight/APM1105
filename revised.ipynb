{
 "cells": [
  {
   "cell_type": "code",
   "execution_count": 9,
   "id": "b74fff21",
   "metadata": {
    "scrolled": true
   },
   "outputs": [
    {
     "name": "stdout",
     "output_type": "stream",
     "text": [
      "Enter the base: 2\n",
      "Enter the exponent: 8\n",
      "2 raised to the power of 8 using iteration is 256. Rendering time: 0.0 seconds.\n",
      "2 raised to the power of 8 using recursion is 256. Rendering time: 0.0 seconds.\n"
     ]
    }
   ],
   "source": [
    "import time\n",
    "\n",
    "def iterative_exponent(base, exponent):\n",
    "    result = 1\n",
    "    for i in range(exponent):\n",
    "        result *= base\n",
    "    return result\n",
    "\n",
    "\n",
    "def recursive_exponent(base, exponent):\n",
    "    if exponent == 0:\n",
    "        return 1\n",
    "    elif exponent == 1:\n",
    "        return base\n",
    "    else:\n",
    "        return base * recursive_exponent(base, exponent-1)\n",
    "end_time_iter = time.time()\n",
    "\n",
    "# Take user input for base and exponent\n",
    "base = int(input(\"Enter the base: \"))\n",
    "exponent = int(input(\"Enter the exponent: \"))\n",
    "\n",
    "# Calculate the exponent using iteration and measure the rendering time\n",
    "start_time_iter = time.time()\n",
    "result_iter = iterative_exponent(base, exponent)\n",
    "end_time_iter = time.time()\n",
    "render_time_iter = end_time_iter - start_time_iter\n",
    "\n",
    "# Calculate the exponent using recursion and measure the rendering time\n",
    "start_time_iter = time.time()\n",
    "result_rec = recursive_exponent(base, exponent)\n",
    "end_time_rec = time.time()\n",
    "render_time_rec = end_time_iter - start_time_iter\n",
    "\n",
    "\n",
    "# Print the results and rendering time for each calculation\n",
    "print(f\"{base} raised to the power of {exponent} using iteration is {result_iter}. Rendering time: {render_time_iter} seconds.\")\n",
    "print(f\"{base} raised to the power of {exponent} using recursion is {result_rec}. Rendering time: {render_time_rec} seconds.\")\n"
   ]
  },
  {
   "cell_type": "code",
   "execution_count": null,
   "id": "c42c519d",
   "metadata": {},
   "outputs": [],
   "source": []
  },
  {
   "cell_type": "code",
   "execution_count": null,
   "id": "b8ad7b68",
   "metadata": {},
   "outputs": [],
   "source": []
  }
 ],
 "metadata": {
  "kernelspec": {
   "display_name": "Python 3 (ipykernel)",
   "language": "python",
   "name": "python3"
  },
  "language_info": {
   "codemirror_mode": {
    "name": "ipython",
    "version": 3
   },
   "file_extension": ".py",
   "mimetype": "text/x-python",
   "name": "python",
   "nbconvert_exporter": "python",
   "pygments_lexer": "ipython3",
   "version": "3.9.13"
  }
 },
 "nbformat": 4,
 "nbformat_minor": 5
}
