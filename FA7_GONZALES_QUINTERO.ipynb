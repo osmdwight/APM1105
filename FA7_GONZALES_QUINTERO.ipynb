{
 "cells": [
  {
   "cell_type": "code",
   "execution_count": null,
   "id": "b27e4c56",
   "metadata": {},
   "outputs": [],
   "source": [
    "\n"
   ]
  },
  {
   "cell_type": "code",
   "execution_count": 4,
   "id": "55e33a35",
   "metadata": {},
   "outputs": [],
   "source": []
  },
  {
   "cell_type": "code",
   "execution_count": 5,
   "id": "7222b89d",
   "metadata": {},
   "outputs": [
    {
     "name": "stdout",
     "output_type": "stream",
     "text": [
      "my car is:bmw\n"
     ]
    }
   ],
   "source": []
  },
  {
   "cell_type": "code",
   "execution_count": 34,
   "id": "c1a323cd",
   "metadata": {},
   "outputs": [
    {
     "name": "stdout",
     "output_type": "stream",
     "text": [
      "Enter first point:5\n",
      "Enter second point:6\n",
      "Point in circle: False\n",
      "Enter the width of a rectangle:7\n",
      "Enter the height of a rectangle:8\n",
      "Rectangle in circle: True\n",
      "Enter a value for rectangle:2\n",
      "Enter a second value for rectangle:3\n",
      "Enter a width for rectangle:7\n",
      "Enter a height for rectangle:6\n",
      "Is the rectangle partially inside of the circle? False\n"
     ]
    }
   ],
   "source": [
    "import math\n",
    "\n",
    "class Circle:\n",
    "    def __init__(self, center1, center2, radius):\n",
    "        self.center1 = center1\n",
    "        self.center2 = center2\n",
    "        self.radius = radius\n",
    "        \n",
    "    def point_in_circle(self, x, y):\n",
    "        distance = math.sqrt((x - self.center1)**2 + (y - self.center2)**2)\n",
    "        if distance <= self.radius:\n",
    "            return True\n",
    "        else:\n",
    "            return False \n",
    "        \n",
    "    def rect_in_circle(self, w, h):\n",
    "        fit = ((w/2)**2 + (h/2)**2)**0.5\n",
    "        diameter = 2*self.radius\n",
    "        if fit <= diameter:\n",
    "            return True\n",
    "        else:\n",
    "            return False   \n",
    "        \n",
    "    def rect_circle_overlap(self, rect_x, rect_y, wh, ht):\n",
    "        dist = math.sqrt((self.center1 - rect_x)**2 + (self.center2 - rect_y)**2)\n",
    "        maximum_dist = math.sqrt((wh/2)**2 + (ht/2)**2)\n",
    "        if dist <= self.radius + maximum_dist:\n",
    "            return True\n",
    "        elif dist <= self.radius and maximum_dist <= radius:\n",
    "            return False\n",
    "        else:\n",
    "            return False\n",
    "        \n",
    "c = Circle(150, 100, 75)\n",
    "\n",
    "x = int(input(\"Enter first point:\"))\n",
    "y = int(input(\"Enter second point:\"))\n",
    "print(\"Point in circle:\", c.point_in_circle(x,y))\n",
    "\n",
    "w = int(input(\"Enter the width of a rectangle:\"))\n",
    "h = int(input(\"Enter the height of a rectangle:\"))\n",
    "print(\"Rectangle in circle:\", c.rect_in_circle(w,h))\n",
    "\n",
    "rect_x = int(input(\"Enter a value for rectangle:\"))\n",
    "rect_y = int(input(\"Enter a second value for rectangle:\"))\n",
    "wh = int(input(\"Enter a width for rectangle:\"))\n",
    "ht = int(input(\"Enter a height for rectangle:\"))\n",
    "print(\"Is the rectangle partially inside of the circle?\", c.rect_circle_overlap(rect_x, rect_y, wh, ht))\n",
    "\n",
    "    "
   ]
  },
  {
   "cell_type": "code",
   "execution_count": null,
   "id": "c29da66d",
   "metadata": {},
   "outputs": [],
   "source": []
  },
  {
   "cell_type": "code",
   "execution_count": null,
   "id": "278450cf",
   "metadata": {},
   "outputs": [],
   "source": []
  },
  {
   "cell_type": "code",
   "execution_count": null,
   "id": "66edcf2d",
   "metadata": {},
   "outputs": [],
   "source": []
  }
 ],
 "metadata": {
  "kernelspec": {
   "display_name": "Python 3 (ipykernel)",
   "language": "python",
   "name": "python3"
  },
  "language_info": {
   "codemirror_mode": {
    "name": "ipython",
    "version": 3
   },
   "file_extension": ".py",
   "mimetype": "text/x-python",
   "name": "python",
   "nbconvert_exporter": "python",
   "pygments_lexer": "ipython3",
   "version": "3.9.13"
  }
 },
 "nbformat": 4,
 "nbformat_minor": 5
}
