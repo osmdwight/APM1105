{
 "cells": [
  {
   "cell_type": "code",
   "execution_count": 2,
   "id": "880de978",
   "metadata": {},
   "outputs": [
    {
     "name": "stdout",
     "output_type": "stream",
     "text": [
      "Enter the base: 45\n",
      "Enter the exponent: 3\n",
      "45 raised to the power of 3 using iteration is 91125. Rendering time: 0.0 seconds.\n",
      "45 raised to the power of 3 using recursion is 91125. Rendering time: 0.0 seconds.\n"
     ]
    }
   ],
   "source": [
    "import time\n",
    "\n",
    "def iterative_exponent(base, exponent):\n",
    "    result = 1\n",
    "    for i in range(exponent):\n",
    "        result *= base\n",
    "    return result\n",
    "\n",
    "\n",
    "def recursive_exponent(base, exponent):\n",
    "    if exponent == 0:\n",
    "        return 1\n",
    "    elif exponent == 1:\n",
    "        return base\n",
    "    else:\n",
    "        return base * recursive_exponent(base, exponent-1)\n",
    "\n",
    "\n",
    "# Take user input for base and exponent\n",
    "base = int(input(\"Enter the base: \"))\n",
    "exponent = int(input(\"Enter the exponent: \"))\n",
    "\n",
    "# Calculate the exponent using iteration and measure the rendering time\n",
    "start_time_iter = time.time()\n",
    "result_iter = iterative_exponent(base, exponent)\n",
    "end_time_iter = time.time()\n",
    "render_time_iter = end_time_iter - start_time_iter\n",
    "\n",
    "# Calculate the exponent using recursion and measure the rendering time\n",
    "start_time_rec = time.time()\n",
    "result_rec = recursive_exponent(base, exponent)\n",
    "end_time_rec = time.time()\n",
    "render_time_rec = end_time_rec - start_time_rec\n",
    "\n",
    "\n",
    "# Print the results and rendering time for each calculation\n",
    "print(f\"{base} raised to the power of {exponent} using iteration is {result_iter}. Rendering time: {render_time_iter} seconds.\")\n",
    "print(f\"{base} raised to the power of {exponent} using recursion is {result_rec}. Rendering time: {render_time_rec} seconds.\")\n",
    "\n",
    "\n",
    "# As a result base on the program: The iterative function is faster than the recursive function.  \n",
    "# the iterative method is faster because it uses a loop to keep multiplying the base by itself until it reaches the exponent.\n",
    "# On the other hand, the recursive method makes multiple function calls, and for each call, a new memory space called stack- \n",
    "# frame is created, which makes it slower and uses more memory compared to the iterative method."
   ]
  },
  {
   "cell_type": "code",
   "execution_count": 3,
   "id": "0161caeb",
   "metadata": {},
   "outputs": [
    {
     "name": "stdout",
     "output_type": "stream",
     "text": [
      "Enter a value for n: 3\n",
      "Iterative Result: 7\n",
      "Iterative Rendering time: 0.0009970664978027344\n",
      "Recursive Result: 7\n",
      "Recursive Rendering time: 0.0\n"
     ]
    }
   ],
   "source": [
    "import time\n",
    "\n",
    "def iterative_sum_powers(n):\n",
    "    result = 0\n",
    "    for i in range(n):\n",
    "        result += 2 ** i\n",
    "    return result\n",
    "\n",
    "def recursive_sum_powers(n):\n",
    "    if n == 0:\n",
    "        return 0\n",
    "    else:\n",
    "        return 2 ** (n-1) + recursive_sum_powers(n-1)\n",
    "\n",
    "n = int(input(\"Enter a value for n: \"))\n",
    "\n",
    "# iterative sum of powers calculation\n",
    "start_time_iter = time.time()\n",
    "result_iter = iterative_sum_powers(n)\n",
    "rendering_time_iter = time.time() - start_time_iter\n",
    "\n",
    "# recursive sum of powers calculation\n",
    "start_time_recur = time.time()\n",
    "result_recur = recursive_sum_powers(n)\n",
    "rendering_time_recur = time.time() - start_time_recur\n",
    "\n",
    "# print results and rendering times\n",
    "print(f\"Iterative Result: {result_iter}\")\n",
    "print(f\"Iterative Rendering time: {rendering_time_iter}\")\n",
    "\n",
    "print(f\"Recursive Result: {result_recur}\")\n",
    "print(f\"Recursive Rendering time: {rendering_time_recur}\")\n",
    "\n",
    "## still it depends on the value of \"n\" \n",
    "#To put it simply, the iterative function is better for larger values of n because it can calculate the sum with just one loop. On the other hand, the re"
   ]
  },
  {
   "cell_type": "markdown",
   "id": "80fc3464",
   "metadata": {},
   "source": [
    "#### "
   ]
  }
 ],
 "metadata": {
  "kernelspec": {
   "display_name": "Python 3 (ipykernel)",
   "language": "python",
   "name": "python3"
  },
  "language_info": {
   "codemirror_mode": {
    "name": "ipython",
    "version": 3
   },
   "file_extension": ".py",
   "mimetype": "text/x-python",
   "name": "python",
   "nbconvert_exporter": "python",
   "pygments_lexer": "ipython3",
   "version": "3.9.13"
  }
 },
 "nbformat": 4,
 "nbformat_minor": 5
}
