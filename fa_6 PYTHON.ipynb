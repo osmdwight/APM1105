{
 "cells": [
  {
   "cell_type": "code",
   "execution_count": null,
   "id": "97978f0e",
   "metadata": {},
   "outputs": [],
   "source": [
    "import time\n",
    "\n",
    "def iterative_exponent(base, exponent):\n",
    "    result = 1\n",
    "    for i in range(exponent):\n",
    "        result *= base\n",
    "    return result\n",
    "\n",
    "def recursive_exponent(base, exponent):\n",
    "    if exponent == 0:\n",
    "        return 1\n",
    "    elif exponent == 1:\n",
    "        return base\n",
    "    else:\n",
    "        return base * recursive_exponent(base, exponent-1)\n",
    "\n",
    "base = int(input(\"Enter base: \"))\n",
    "exponent = int(input(\"Enter exponent: \"))\n",
    "\n",
    "# iterative exponent calculation\n",
    "start_time_iter = time.time()\n",
    "result_iter = iterative_exponent(base, exponent)\n",
    "rendering_time_iter = time.time() - start_time_iter\n",
    "\n",
    "# recursive exponent calculation\n",
    "start_time_recur = time.time()\n",
    "result_recur = recursive_exponent(base, exponent)\n",
    "rendering_time_recur = time.time() - start_time_recur\n",
    "\n",
    "# print results and rendering times\n",
    "print(f\"Iterative Result: {result_iter}\")\n",
    "print(f\"Iterative Rendering time: {rendering_time_iter}\")\n",
    "\n",
    "print(f\"Recursive Result: {result_recur}\")\n",
    "print(f\"Recursive Rendering time: {rendering_time_recur}\")\n",
    "\n",
    "\n"
   ]
  },
  {
   "cell_type": "code",
   "execution_count": 11,
   "id": "14fd05ff",
   "metadata": {},
   "outputs": [],
   "source": [
    "# As a result base on the program: The iterative function is faster than the recursive function  the iterative method is faster because it uses a loop to keep multiplying the base by itself until it reaches the exponent. On the other hand, the recursive method makes multiple function calls, and for each call, a new memory space called stack frame is created, which makes it slower and uses more memory compared to the iterative method.\n"
   ]
  },
  {
   "cell_type": "code",
   "execution_count": null,
   "id": "36dc1317",
   "metadata": {},
   "outputs": [],
   "source": [
    "\n"
   ]
  },
  {
   "cell_type": "markdown",
   "id": "35db24c9",
   "metadata": {},
   "source": []
  },
  {
   "cell_type": "code",
   "execution_count": null,
   "id": "04a9b875",
   "metadata": {},
   "outputs": [],
   "source": [
    "import time\n",
    "\n",
    "def iterative_sum_powers(n):\n",
    "    result = 0\n",
    "    for i in range(n):\n",
    "        result +=2 ** i\n",
    "    return result\n",
    "\n",
    "def recursive_sum_powers(n):\n",
    "    if n == 0:\n",
    "        return 0\n",
    "    else:\n",
    "        return 2 ** (n-1) + recursive_sum_powers(n-1)\n",
    "\n",
    "n = int(input(\"Enter a value for n: \"))\n",
    "\n",
    "# iterative time calculation\n",
    "start_time_iterative = time.time()\n",
    "result_iter = iterative_sum_powers(n)\n",
    "rendering_time_iterative = time.time() - start_time_iterative\n",
    "\n",
    "# recursive time calculation\n",
    "start_time_recursive = time.time()\n",
    "result_recursive = recursive_sum_powers(n)\n",
    "rendering_time_recursive = time.time() - start_time_recursive\n",
    "\n",
    "# print results and  times\n",
    "print(f\"Iterative Result: {result_iter}\")\n",
    "print(f\"Iterative Rendering time: {rendering_time_iterative}\")\n",
    "\n",
    "print(f\"Recursive Result: {result_recur}\")\n",
    "print(f\"Recursive Rendering time: {rendering_time_recursive}\")\n",
    "\n",
    "# still it depends on the value of \"n\" \n",
    "#To put it simply, the iterative function is better for larger values of n because it can calculate the sum with just one loop. On the other hand, the recursive function needs to create many function calls, which can take up more time and memory. For smaller values of n, the difference may not be noticeable. "
   ]
  },
  {
   "cell_type": "code",
   "execution_count": null,
   "id": "89e2bb6f",
   "metadata": {},
   "outputs": [],
   "source": []
  }
 ],
 "metadata": {
  "kernelspec": {
   "display_name": "Python 3 (ipykernel)",
   "language": "python",
   "name": "python3"
  },
  "language_info": {
   "codemirror_mode": {
    "name": "ipython",
    "version": 3
   },
   "file_extension": ".py",
   "mimetype": "text/x-python",
   "name": "python",
   "nbconvert_exporter": "python",
   "pygments_lexer": "ipython3",
   "version": "3.9.13"
  }
 },
 "nbformat": 4,
 "nbformat_minor": 5
}
