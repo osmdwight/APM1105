{
 "cells": [
  {
   "cell_type": "code",
   "execution_count": 1,
   "metadata": {},
   "outputs": [
    {
     "name": "stdout",
     "output_type": "stream",
     "text": [
      "Enter a number:2\n",
      "Enter a number:4\n",
      "11\n"
     ]
    }
   ],
   "source": [
    "def ack(m,n):\n",
    "      \n",
    "    if m==0:\n",
    "            return n+1\n",
    "    elif m>0 and n==0:\n",
    "            return ack(m-1,1)\n",
    "    elif m>0 and n>0:\n",
    "             return ack(m-1,ack(m,n-1))\n",
    "        \n",
    "m=int(input(\"Enter a number:\"))\n",
    "n=int(input(\"Enter a number:\"))\n",
    "\n",
    "print(ack(m,n))                      \n",
    "\n",
    "# since Ackermann iilustrates that not all computable function has its recursive. So if we give an any non negative larger values\n",
    "#the Ackermann function might not solve it since not all computable function has its recursive\n"
   ]
  },
  {
   "cell_type": "code",
   "execution_count": 2,
   "metadata": {},
   "outputs": [
    {
     "name": "stdout",
     "output_type": "stream",
     "text": [
      "Enter a integer number:3\n",
      "Enter a integer number:4\n",
      "(3,4) RETURNS: False\n"
     ]
    }
   ],
   "source": [
    "def is_divisible(x, y):\n",
    "    return x % y == 0\n",
    "\n",
    "def is_power(a, b):\n",
    "    if a == 1: #every positive integer that has an exponent of 0 is a power of \"1\".\n",
    "        return True \n",
    "    elif is_divisible(a, b): #a is divisible by b\n",
    "        if a == b: \n",
    "            return True\n",
    "        elif b == 1 and a != 1: #the only positive integer that is a power of \"1\" is \"1\" itself\n",
    "            return False\n",
    "        else:\n",
    "            return is_power(a/b, b) #a/b is a power of b\n",
    "    return False\n",
    "\n",
    "#  if a == b, to avoid a/b < b \n",
    "# 4 is a power of 2. Without this conditional it would return false EVEN IT IS TRUE.\n",
    "\n",
    "\n",
    "x=int(input(\"Enter a integer number:\"))\n",
    "y=int(input(\"Enter a integer number:\"))\n",
    "\n",
    "\n",
    "\n",
    "print(\"(%d,%d) RETURNS:\"%(x,y), is_power(x, y)) \n"
   ]
  },
  {
   "cell_type": "code",
   "execution_count": null,
   "metadata": {},
   "outputs": [],
   "source": []
  }
 ],
 "metadata": {
  "kernelspec": {
   "display_name": "Python 3",
   "language": "python",
   "name": "python3"
  },
  "language_info": {
   "codemirror_mode": {
    "name": "ipython",
    "version": 3
   },
   "file_extension": ".py",
   "mimetype": "text/x-python",
   "name": "python",
   "nbconvert_exporter": "python",
   "pygments_lexer": "ipython3",
   "version": "3.7.0"
  }
 },
 "nbformat": 4,
 "nbformat_minor": 2
}
