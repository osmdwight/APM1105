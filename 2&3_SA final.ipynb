{
 "cells": [
  {
   "cell_type": "code",
   "execution_count": 3,
   "id": "a7ad4c0b",
   "metadata": {},
   "outputs": [
    {
     "name": "stdout",
     "output_type": "stream",
     "text": [
      "Enter a number: 2\n",
      "fib_iterative(2) = 1 (time taken: 0.0000000000000000000 seconds)\n",
      "fib_recursive(2) = 1 (time taken: 0.0000000000000000000 seconds)\n"
     ]
    }
   ],
   "source": [
    "import time\n",
    "\n",
    "def fib_iterative(n):\n",
    "    fib = [0, 1]\n",
    "    for i in range(2, n+1):\n",
    "        fib += [fib[i - 1] + fib[i - 2]]\n",
    "    return fib[n]\n",
    "\n",
    "def fib_recursive(n):\n",
    "    if n <= 1:\n",
    "        return n\n",
    "    else:\n",
    "        return fib_recursive(n-1) + fib_recursive(n-2)\n",
    "\n",
    "# Get input from user\n",
    "n = int(input(\"Enter a number: \"))\n",
    "\n",
    "# Measure time taken by iterative approach\n",
    "start_time = time.time()\n",
    "fib_iter = fib_iterative(n)\n",
    "end_time = time.time()\n",
    "iter_time = end_time - start_time\n",
    "\n",
    "# Measure time taken by recursive approach\n",
    "start_time = time.time()\n",
    "fib_rec = fib_recursive(n)\n",
    "end_time = time.time()\n",
    "rec_time = end_time - start_time\n",
    "\n",
    "# Print results\n",
    "print(\"fib_iterative({}) = {} (time taken: {:.19f} seconds)\".format(n, fib_iter, iter_time))\n",
    "print(\"fib_recursive({}) = {} (time taken: {:.19f} seconds)\".format(n, fib_rec, rec_time))\n"
   ]
  },
  {
   "cell_type": "code",
   "execution_count": 4,
   "id": "1872e5d0",
   "metadata": {},
   "outputs": [
    {
     "name": "stdout",
     "output_type": "stream",
     "text": [
      "x(0): 2.000\n",
      "x(1): 2.154\n",
      "x(2): 2.097\n",
      "x(3): 2.119\n",
      "x(4): 2.111\n",
      "x(5): 2.114\n",
      "x(6): 2.113\n",
      "x(7): 2.113\n",
      "Solution found: x(7): 2.113\n"
     ]
    }
   ],
   "source": [
    "import math\n",
    "\n",
    "# Set initial values of n and x\n",
    "n = 0\n",
    "x = 2\n",
    "\n",
    "# Set a flag to keep track of whether we have found the solution\n",
    "found_solution = False\n",
    "\n",
    "# Loop until we find the solution\n",
    "while not found_solution:\n",
    "    # Calculate the value of x for the next iteration\n",
    "    ans_form = math.pow(20 - 5*x, 1/3)\n",
    "    print(\"x({}): {:.3f}\".format(n,x))\n",
    "\n",
    "    # Calculate the absolute difference between x_next and x\n",
    "    diff = abs(ans_form - x)  # we ensure that the difference is always positive\n",
    "\n",
    "    # Check if the difference is less than 0.001 (in this we can know if its same in 3 decimal places)\n",
    "    if diff < 0.001:\n",
    "        found_solution = True\n",
    "        print(\"x({}): {:.3f}\".format(n+1,ans_form))\n",
    "        print(\"Solution found: x({}): {:.3f}\".format(n+1,ans_form))\n",
    "    else:\n",
    "        # Update the value of x and increment n\n",
    "        x = ans_form\n",
    "        n += 1"
   ]
  },
  {
   "cell_type": "code",
   "execution_count": null,
   "id": "2f862c1f",
   "metadata": {},
   "outputs": [],
   "source": []
  }
 ],
 "metadata": {
  "kernelspec": {
   "display_name": "Python 3 (ipykernel)",
   "language": "python",
   "name": "python3"
  },
  "language_info": {
   "codemirror_mode": {
    "name": "ipython",
    "version": 3
   },
   "file_extension": ".py",
   "mimetype": "text/x-python",
   "name": "python",
   "nbconvert_exporter": "python",
   "pygments_lexer": "ipython3",
   "version": "3.9.13"
  }
 },
 "nbformat": 4,
 "nbformat_minor": 5
}
