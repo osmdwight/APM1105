{
 "cells": [
  {
   "cell_type": "code",
   "execution_count": 3,
   "metadata": {},
   "outputs": [
    {
     "name": "stdout",
     "output_type": "stream",
     "text": [
      "Enter value in kilometers: 10\n",
      "6.870430 average pace\n",
      "8.733078 averagespeed\n"
     ]
    }
   ],
   "source": [
    "kmrun = float(input(\"Enter value in kilometers: \"))\n",
    "miles = float(kmrun)/1.609\n",
    "min = 42\n",
    "sec = 42\n",
    "sectomin = float(sec)/60\n",
    "totalmin = float(sectomin)+float(min)\n",
    "avespace = float(totalmin)/float(miles)\n",
    "print(\"%f average pace\" %(avespace))\n",
    "avespeed = 60/float(avespace)\n",
    "print(\"%f averagespeed\" %(avespeed))"
   ]
  },
  {
   "cell_type": "code",
   "execution_count": 4,
   "metadata": {},
   "outputs": [
    {
     "name": "stdout",
     "output_type": "stream",
     "text": [
      "Enter value in kilometers: 10\n",
      "10.00 kilometers is equal to 6.21 miles\n"
     ]
    }
   ],
   "source": [
    "kilometers = float(input(\"Enter value in kilometers: \"))\n",
    "\n",
    "\n",
    "conversion = 0.62137119\n",
    "\n",
    "\n",
    "miles  = kilometers * conversion\n",
    "print(\"%0.2f kilometers is equal to %0.2f miles\" %(kilometers,miles))\n"
   ]
  },
  {
   "cell_type": "code",
   "execution_count": null,
   "metadata": {},
   "outputs": [],
   "source": []
  }
 ],
 "metadata": {
  "kernelspec": {
   "display_name": "Python 3",
   "language": "python",
   "name": "python3"
  },
  "language_info": {
   "codemirror_mode": {
    "name": "ipython",
    "version": 3
   },
   "file_extension": ".py",
   "mimetype": "text/x-python",
   "name": "python",
   "nbconvert_exporter": "python",
   "pygments_lexer": "ipython3",
   "version": "3.7.0"
  }
 },
 "nbformat": 4,
 "nbformat_minor": 2
}
